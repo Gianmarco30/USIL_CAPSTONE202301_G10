{
 "cells": [
  {
   "cell_type": "code",
   "execution_count": 8,
   "id": "10054f6b-1555-4628-8841-a9f551cde6ad",
   "metadata": {
    "tags": []
   },
   "outputs": [
    {
     "name": "stdout",
     "output_type": "stream",
     "text": [
      "Puntajes de validación cruzada: [0.875      0.925      0.925      0.925      0.9        0.875\n",
      " 0.925      0.925      0.94871795 0.87179487]\n",
      "Precisión media: 0.9095512820512821\n",
      "\n",
      "Métricas de evaluación:\n",
      "------------------------\n",
      "\tAccuracy: 0.9181286549707602\n",
      "\tPrecisión: 0.9016393442622951\n",
      "\tRecall: 0.873015873015873\n",
      "\tF1-score: 0.8870967741935485\n",
      "\n",
      "Matriz de confusión:\n",
      "[[102   6]\n",
      " [  8  55]]\n"
     ]
    },
    {
     "data": {
      "text/plain": [
       "['modelo_entrenado2.joblib']"
      ]
     },
     "execution_count": 8,
     "metadata": {},
     "output_type": "execute_result"
    }
   ],
   "source": [
    "import pandas as pd\n",
    "from sklearn.decomposition import PCA\n",
    "from sklearn.preprocessing import StandardScaler\n",
    "from sklearn.linear_model import LogisticRegression\n",
    "from sklearn.model_selection import train_test_split\n",
    "from sklearn.model_selection import cross_val_score\n",
    "from sklearn.metrics import confusion_matrix, accuracy_score, precision_score, recall_score, f1_score\n",
    "from tabulate import tabulate\n",
    "from joblib import dump\n",
    "\n",
    "# Carga de datos y preprocesamiento\n",
    "df_wdbc = pd.read_csv('data.csv')\n",
    "df_wdbc.drop(['Unnamed: 32', 'id'], axis=1, inplace=True)\n",
    "df_wdbc.diagnosis.replace({\"M\": 1, \"B\": 0}, inplace=True)\n",
    "\n",
    "X = df_wdbc.drop('diagnosis', axis=1)\n",
    "y = df_wdbc['diagnosis']\n",
    "\n",
    "# Estandarizamos los datos\n",
    "scaler = StandardScaler()\n",
    "X_scaled = scaler.fit_transform(X)\n",
    "\n",
    "# Crea una instancia de PCA y especifica el número de componentes deseados\n",
    "pca3 = PCA(n_components=1)\n",
    "\n",
    "# Aplica PCA a los datos estandarizados\n",
    "X_pca3 = pca3.fit_transform(X_scaled)\n",
    "\n",
    "# Dividir los datos en conjunto de entrenamiento y conjunto de prueba\n",
    "X_train, X_test, y_train, y_test = train_test_split(X_pca3, y, test_size=0.3, random_state=42)\n",
    "\n",
    "# Crear y entrenar el modelo de regresión logística\n",
    "modelo = LogisticRegression()\n",
    "modelo.fit(X_train, y_train)\n",
    "\n",
    "# Validación cruzada\n",
    "scores = cross_val_score(modelo, X_train, y_train, cv=10)\n",
    "mean_score = scores.mean()\n",
    "print(\"Puntajes de validación cruzada:\", scores)\n",
    "print(\"Precisión media:\", mean_score)\n",
    "\n",
    "# Obtener las predicciones en el conjunto de prueba\n",
    "y_pred = modelo.predict(X_test)\n",
    "\n",
    "# Calcular las métricas de evaluación\n",
    "accuracy = accuracy_score(y_test, y_pred)\n",
    "precision = precision_score(y_test, y_pred)\n",
    "recall = recall_score(y_test, y_pred)\n",
    "f1 = f1_score(y_test, y_pred)\n",
    "\n",
    "# Imprimir las métricas de evaluación\n",
    "print(\"\\nMétricas de evaluación:\")\n",
    "print(\"------------------------\")\n",
    "print(\"\\tAccuracy:\", accuracy)\n",
    "print(\"\\tPrecisión:\", precision)\n",
    "print(\"\\tRecall:\", recall)\n",
    "print(\"\\tF1-score:\", f1)\n",
    "\n",
    "# Crear la matriz de confusión\n",
    "confusion_matrix = confusion_matrix(y_test, y_pred)\n",
    "\n",
    "# Imprimir la matriz de confusión\n",
    "print(\"\\nMatriz de confusión:\")\n",
    "print(confusion_matrix)\n",
    "\n",
    "# Guardar el modelo entrenado en un archivo .joblib\n",
    "dump(modelo, 'modelo_entrenado2.joblib')"
   ]
  },
  {
   "cell_type": "code",
   "execution_count": null,
   "id": "3417fefd-08b0-4053-8b78-c906d63ab15a",
   "metadata": {},
   "outputs": [],
   "source": []
  }
 ],
 "metadata": {
  "kernelspec": {
   "display_name": "Python 3 (ipykernel)",
   "language": "python",
   "name": "python3"
  },
  "language_info": {
   "codemirror_mode": {
    "name": "ipython",
    "version": 3
   },
   "file_extension": ".py",
   "mimetype": "text/x-python",
   "name": "python",
   "nbconvert_exporter": "python",
   "pygments_lexer": "ipython3",
   "version": "3.11.3"
  }
 },
 "nbformat": 4,
 "nbformat_minor": 5
}
